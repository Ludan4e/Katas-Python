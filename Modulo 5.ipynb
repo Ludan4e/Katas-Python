{
 "cells": [
  {
   "cell_type": "code",
   "execution_count": 1,
   "metadata": {},
   "outputs": [],
   "source": [
    "planetA = 149597870\n",
    "planetB = 778547200\n"
   ]
  },
  {
   "cell_type": "code",
   "execution_count": 3,
   "metadata": {},
   "outputs": [
    {
     "name": "stdout",
     "output_type": "stream",
     "text": [
      "La distancia en kilometros es:628949330 km\n",
      "La distancia en millas es:39057753.393 km\n"
     ]
    }
   ],
   "source": [
    "distancia = planetB - planetA\n",
    "\n",
    "print('La distancia en kilometros es:' +str(distancia) + ' km')\n",
    "print('La distancia en millas es:' +str(distancia*.0621) + ' millas')\n"
   ]
  },
  {
   "cell_type": "code",
   "execution_count": 9,
   "metadata": {},
   "outputs": [],
   "source": [
    "elPlanetaA = input('Ingrese la distancia del sol al planeta A')\n",
    "elPlanetaB = input('Ingrese la distancia del sol al planeta B')"
   ]
  },
  {
   "cell_type": "code",
   "execution_count": 11,
   "metadata": {},
   "outputs": [],
   "source": [
    "elPlanetaA= int(elPlanetaA)\n",
    "elPlanetaB= int(elPlanetaB)"
   ]
  },
  {
   "cell_type": "code",
   "execution_count": 13,
   "metadata": {},
   "outputs": [
    {
     "name": "stdout",
     "output_type": "stream",
     "text": [
      "La distancia entre ambos planetas es :190 km\n",
      "La distancia en millas es:11.799000000000001 millas\n"
     ]
    },
    {
     "data": {
      "text/plain": [
       "<function print>"
      ]
     },
     "execution_count": 13,
     "metadata": {},
     "output_type": "execute_result"
    }
   ],
   "source": [
    "distanciaAuto = elPlanetaB - elPlanetaA\n",
    "\n",
    "print ('La distancia entre ambos planetas es :'+ str(distanciaAuto) +' km' ) \n",
    "print ('La distancia en millas es:' +str(distanciaAuto*.0621) + ' millas')\n",
    "print"
   ]
  }
 ],
 "metadata": {
  "interpreter": {
   "hash": "c6373ce458f13159564806af55ea1eb65bccdcb6fda5434f1d4f3917b5432f65"
  },
  "kernelspec": {
   "display_name": "Python 3.10.2 64-bit (windows store)",
   "language": "python",
   "name": "python3"
  },
  "language_info": {
   "codemirror_mode": {
    "name": "ipython",
    "version": 3
   },
   "file_extension": ".py",
   "mimetype": "text/x-python",
   "name": "python",
   "nbconvert_exporter": "python",
   "pygments_lexer": "ipython3",
   "version": "3.10.2"
  },
  "orig_nbformat": 4
 },
 "nbformat": 4,
 "nbformat_minor": 2
}
