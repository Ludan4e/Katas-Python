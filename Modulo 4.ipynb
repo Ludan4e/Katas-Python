{
 "cells": [
  {
   "cell_type": "code",
   "execution_count": 13,
   "metadata": {},
   "outputs": [
    {
     "name": "stdout",
     "output_type": "stream",
     "text": [
      " \n",
      "On average, the Moon moves 4cm away from the Earth every year\n",
      " The highest daylight temperature of the Moon is 127 Celcius\n"
     ]
    }
   ],
   "source": [
    "#Transformar cadenas\n",
    "text = \"\"\"Interesting facts about the Moon. The Moon is Earth's only satellite. There are several interesting facts about the Moon and how it affects life here on Earth. \n",
    "On average, the Moon moves 4cm away from the Earth every year. This yearly drift is not significant enough to cause immediate effects on Earth. The highest daylight temperature of the Moon is 127 C.\"\"\"\n",
    "\n",
    "textDivido = text.split('.')\n",
    "\n",
    "palabrasPista = [\"average\",\"temperature\",\"distance\"]\n",
    "\n",
    "for oracion in textDivido:\n",
    "    for key_word in palabrasPista:\n",
    "        if key_word in oracion:\n",
    "            #print(oracion)\n",
    "            print(oracion.replace('C', 'Celcius'))\n",
    "            break\n",
    "\n",
    "#print(textDivido)\n"
   ]
  },
  {
   "cell_type": "code",
   "execution_count": 15,
   "metadata": {},
   "outputs": [
    {
     "name": "stdout",
     "output_type": "stream",
     "text": [
      "Gravity Facts About Moon Moon \n",
      "------------------------------------------------------------ \n",
      "Planet Name: Earth \n",
      "Gravity on Ganymede Moon: 1.6199999999999999 m/s2 \n",
      " \n",
      "\n",
      "Gravity Facts About Moon Moon \n",
      "------------------------------------------------------------ \n",
      "Planet Name: Earth \n",
      "Gravity on Ganymede Moon: 1.6199999999999999 m/s2 \n",
      " \n",
      "\n"
     ]
    }
   ],
   "source": [
    "name = \"Moon\"\n",
    "gravity = 0.00162 # in kms\n",
    "planet = \"Earth\"\n",
    "\n",
    "titulo = f'Gravity Facts about Moon {name}'\n",
    "\n",
    "plantilla = f\"\"\"{'-'*60} \n",
    "Planet Name: {planet} \n",
    "Gravity on Ganymede {name}: {gravity * 1000} m/s2 \n",
    "\"\"\"\n",
    "informacion = f\"\"\"{titulo.title()} \n",
    "{plantilla} \n",
    "\"\"\" \n",
    "print(informacion)\n",
    "\n",
    "\n"
   ]
  },
  {
   "cell_type": "code",
   "execution_count": 20,
   "metadata": {},
   "outputs": [],
   "source": [
    "planet = 'Marte '\n",
    "gravity  = 0.00143\n",
    "name = 'Ganímedes'"
   ]
  },
  {
   "cell_type": "code",
   "execution_count": 21,
   "metadata": {},
   "outputs": [
    {
     "name": "stdout",
     "output_type": "stream",
     "text": [
      "Gravity Facts About Moon Moon \n",
      "------------------------------------------------------------ \n",
      "Planet Name: Earth \n",
      "Gravity on Ganymede Moon: 1.6199999999999999 m/s2 \n",
      " \n",
      "\n"
     ]
    }
   ],
   "source": [
    "print(informacion)"
   ]
  },
  {
   "cell_type": "code",
   "execution_count": 23,
   "metadata": {},
   "outputs": [
    {
     "name": "stdout",
     "output_type": "stream",
     "text": [
      "\n",
      "Datos de Gravedad sobre: Ganímedes\n",
      "-------------------------------------------------------------------------------\n",
      "Nombre del planeta: Marte \n",
      "Gravedad en Ganímedes: 0.00143 m/s2\n",
      "\n"
     ]
    }
   ],
   "source": [
    "nueva_plantilla = \"\"\"\n",
    "Datos de Gravedad sobre: {name}\n",
    "-------------------------------------------------------------------------------\n",
    "Nombre del planeta: {planet}\n",
    "Gravedad en {name}: {gravity} m/s2\n",
    "\"\"\"\n",
    "print(nueva_plantilla.format(name=name, planet=planet, gravity=gravity))"
   ]
  },
  {
   "cell_type": "code",
   "execution_count": 24,
   "metadata": {},
   "outputs": [
    {
     "name": "stdout",
     "output_type": "stream",
     "text": [
      "\n",
      "Datos de Gravedad sobre: Luden\n",
      "-------------------------------------------------------------------------------\n",
      "Nombre del planeta: Jupiter\n",
      "Gravedad en Luden: 0.002 m/s2\n",
      "\n"
     ]
    }
   ],
   "source": [
    "print(nueva_plantilla.format(name='Luden', planet='Jupiter', gravity=0.002))"
   ]
  }
 ],
 "metadata": {
  "interpreter": {
   "hash": "c6373ce458f13159564806af55ea1eb65bccdcb6fda5434f1d4f3917b5432f65"
  },
  "kernelspec": {
   "display_name": "Python 3.10.2 64-bit (windows store)",
   "language": "python",
   "name": "python3"
  },
  "language_info": {
   "codemirror_mode": {
    "name": "ipython",
    "version": 3
   },
   "file_extension": ".py",
   "mimetype": "text/x-python",
   "name": "python",
   "nbconvert_exporter": "python",
   "pygments_lexer": "ipython3",
   "version": "3.10.2"
  },
  "orig_nbformat": 4
 },
 "nbformat": 4,
 "nbformat_minor": 2
}
