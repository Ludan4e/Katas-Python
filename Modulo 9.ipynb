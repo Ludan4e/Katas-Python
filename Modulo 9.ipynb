{
 "cells": [
  {
   "cell_type": "markdown",
   "metadata": {},
   "source": [
    "Ejercicio 1"
   ]
  },
  {
   "cell_type": "code",
   "execution_count": 10,
   "metadata": {},
   "outputs": [
    {
     "name": "stdout",
     "output_type": "stream",
     "text": [
      "Reporte de tankes: tanque 1= 40 litros, tanque 2= 40 litros, tanque 3= 40 litros. El promedio es : 30.0 litros \n"
     ]
    }
   ],
   "source": [
    "def informe(tankeone,tanketwo, tankethree):\n",
    "    promedio = (tankeone + tanketwo + tankethree) / 3\n",
    "    return (f'Reporte de tankes: tanque 1= '+ str(tankeone) +' litros, tanque 2= ' + str(tankeone) + ' litros, tanque 3= ' + str(tankeone) + ' litros. El promedio es : ' + str(promedio)+' litros '  )\n",
    "       \n",
    "\n",
    "print (informe(40, 20, 30))"
   ]
  },
  {
   "cell_type": "code",
   "execution_count": 13,
   "metadata": {},
   "outputs": [
    {
     "name": "stdout",
     "output_type": "stream",
     "text": [
      "Reporte de tankes: tanque 1= 80 litros, tanque 2= 80 litros, tanque 3= 80 litros. El promedio es : 82.0 litros \n"
     ]
    }
   ],
   "source": [
    "print (informe(80, 85, 81))"
   ]
  },
  {
   "cell_type": "code",
   "execution_count": 32,
   "metadata": {},
   "outputs": [],
   "source": [
    "def promedio (litros):\n",
    "    elPromedio = int(sum(litros)) / int(len(litros))\n",
    "    return elPromedio"
   ]
  },
  {
   "cell_type": "code",
   "execution_count": 38,
   "metadata": {},
   "outputs": [],
   "source": [
    "def informe(tankeone,tanketwo, tankethree):\n",
    "    return (f'Reporte de tankes: tanque 1= '+ str(tankeone) +' litros, tanque 2= ' + str(tanketwo) + ' litros, tanque 3= ' + str(tankeone) + ' litros. El promedio es : ' + str(promedio([tankeone,tanketwo,tankethree]))+' litros '  )\n",
    "       "
   ]
  },
  {
   "cell_type": "code",
   "execution_count": 40,
   "metadata": {},
   "outputs": [
    {
     "name": "stdout",
     "output_type": "stream",
     "text": [
      "Reporte de tankes: tanque 1= 88 litros, tanque 2= 70 litros, tanque 3= 88 litros. El promedio es : 81.0 litros \n"
     ]
    }
   ],
   "source": [
    "print(informe(88,70,85))"
   ]
  },
  {
   "cell_type": "markdown",
   "metadata": {},
   "source": [
    "Ejercicio 2"
   ]
  },
  {
   "cell_type": "code",
   "execution_count": 16,
   "metadata": {},
   "outputs": [
    {
     "name": "stdout",
     "output_type": "stream",
     "text": [
      " El vuelo a Moon sera a las 14 horas, con una duración de 51 horas, se cuenta con 500000 litros\n"
     ]
    }
   ],
   "source": [
    "def informe_Mision(prelanzamiento, tiempoVuelo, destino, tanqueExterno, tanqueInterno):\n",
    "    return (f' El vuelo a '+str(destino)+' sera a las '+str(prelanzamiento)+ ' horas, con una duración de '+str(tiempoVuelo)+' horas, se cuenta con ' +str(tanqueExterno+tanqueInterno) + ' litros'  )\n",
    "print(informe_Mision(14, 51, \"Moon\", 200000, 300000))"
   ]
  },
  {
   "cell_type": "code",
   "execution_count": 20,
   "metadata": {},
   "outputs": [
    {
     "name": "stdout",
     "output_type": "stream",
     "text": [
      " El vuelo a Moon durará  76 horas, se cuenta con 500000 litros\n"
     ]
    }
   ],
   "source": [
    "def new_Informe_Mision(destino, *horas, **combustible):\n",
    "    return (f' El vuelo a '+str(destino)+' durará  '+str(sum(horas))+ ' horas, se cuenta con ' +str(sum(combustible.values())) + ' litros'  )\n",
    "print(new_Informe_Mision(\"Moon\", 10, 15, 51, main=300000, external=200000))"
   ]
  },
  {
   "cell_type": "code",
   "execution_count": 31,
   "metadata": {},
   "outputs": [
    {
     "name": "stdout",
     "output_type": "stream",
     "text": [
      " El vuelo a Moon durará 74 horas, se cuenta con 500000 litros. \n",
      "Tanque Principal quedan --> 300000 litros\n",
      "Tanque Externo quedan --> 200000 litros\n",
      "\n"
     ]
    }
   ],
   "source": [
    "\n",
    "def new_Informe_Mision(destino, *horas, **combustible):\n",
    "    reporte = f' El vuelo a '+str(destino)+' durará '+str(sum(horas))+ ' horas, se cuenta con ' +str(sum(combustible.values())) + ' litros. \\n'\n",
    "    for tank_name, litros in combustible.items():\n",
    "        reporte += f\"Tanque {tank_name} quedan --> {litros} litros\\n\"\n",
    "    return reporte\n",
    "\n",
    "print(new_Informe_Mision(\"Moon\", 8, 11, 55, Principal=300000, Externo=200000))"
   ]
  }
 ],
 "metadata": {
  "interpreter": {
   "hash": "c6373ce458f13159564806af55ea1eb65bccdcb6fda5434f1d4f3917b5432f65"
  },
  "kernelspec": {
   "display_name": "Python 3.10.2 64-bit (windows store)",
   "language": "python",
   "name": "python3"
  },
  "language_info": {
   "codemirror_mode": {
    "name": "ipython",
    "version": 3
   },
   "file_extension": ".py",
   "mimetype": "text/x-python",
   "name": "python",
   "nbconvert_exporter": "python",
   "pygments_lexer": "ipython3",
   "version": "3.10.2"
  },
  "orig_nbformat": 4
 },
 "nbformat": 4,
 "nbformat_minor": 2
}
