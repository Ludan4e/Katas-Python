{
 "cells": [
  {
   "cell_type": "code",
   "execution_count": 14,
   "metadata": {},
   "outputs": [
    {
     "name": "stdout",
     "output_type": "stream",
     "text": [
      "Asteroide acercandose a la atmosfera a:49km/s ¡peligro!, entrará demasiado rapido\n"
     ]
    }
   ],
   "source": [
    "asteroide = 49\n",
    "\n",
    "if asteroide>=25 :\n",
    "    print('Asteroide acercandose a la atmosfera a:' +str(asteroide) +'km/s ¡peligro!, entrará demasiado rapido')\n",
    "else:\n",
    "    print('Asteroide acercandose a la atmosfera de manera segura')"
   ]
  },
  {
   "cell_type": "code",
   "execution_count": 15,
   "metadata": {},
   "outputs": [
    {
     "name": "stdout",
     "output_type": "stream",
     "text": [
      "Asteroide entrando a la atmosfera, se ve un rayo de luz en el cielo\n"
     ]
    }
   ],
   "source": [
    "asteroide = 21\n",
    "if asteroide> 20:\n",
    "    print('Asteroide entrando a la atmosfera, se ve un rayo de luz en el cielo')\n",
    "elif asteroide == 20:\n",
    "    print('Asteroide entrando a la atmosfera, se ve un rayo de luz en el cielo')\n",
    "else :\n",
    "    print('Asteroide entrando a la atmosfera, no deja rastro en el cielo')\n"
   ]
  },
  {
   "cell_type": "code",
   "execution_count": 10,
   "metadata": {},
   "outputs": [
    {
     "name": "stdout",
     "output_type": "stream",
     "text": [
      "Asteroide entrando a la atmosfera, se ve un rayo de luz en el cielo\n"
     ]
    }
   ],
   "source": [
    "velAsteroide = 27\n",
    "tamAsteroide = 90\n",
    "if velAsteroide > 25 and tamAsteroide > 25 :\n",
    "    print ('Asteroide acercandose a la atmosfera a: ' +str(velAsteroide) +'km/s ¡peligro!, entrará demasiado rapido y tiene un tamaño de : ' + str(tamAsteroide) + ' mts' )\n",
    "elif velAsteroide >= 20 :\n",
    "    print('Asteroide entrando a la atmosfera, se ve un rayo de luz en el cielo')\n",
    "elif tamAsteroide < 25 :\n",
    "    print('Asteroide acercandose a la atmosfera de manera segura')\n",
    "else:\n",
    "    print('Asteroide acercandose a la atmosfera de manera segura, no sé alcanzará a ver')"
   ]
  }
 ],
 "metadata": {
  "interpreter": {
   "hash": "c6373ce458f13159564806af55ea1eb65bccdcb6fda5434f1d4f3917b5432f65"
  },
  "kernelspec": {
   "display_name": "Python 3.10.2 64-bit (windows store)",
   "language": "python",
   "name": "python3"
  },
  "language_info": {
   "codemirror_mode": {
    "name": "ipython",
    "version": 3
   },
   "file_extension": ".py",
   "mimetype": "text/x-python",
   "name": "python",
   "nbconvert_exporter": "python",
   "pygments_lexer": "ipython3",
   "version": "3.10.2"
  },
  "orig_nbformat": 4
 },
 "nbformat": 4,
 "nbformat_minor": 2
}
